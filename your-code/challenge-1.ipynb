{
 "cells": [
  {
   "cell_type": "markdown",
   "metadata": {},
   "source": [
    "# Challenge 1 - T-test\n",
    "\n",
    "In statistics, t-test is used to test if two data samples have a significant difference between their means. There are two types of t-test:\n",
    "\n",
    "* **Student's t-test** (a.k.a. independent or uncorrelated t-test). This type of t-test is to compare the samples of **two independent populations** (e.g. test scores of students in two different classes). `scipy` provides the [`ttest_ind`](https://docs.scipy.org/doc/scipy-0.15.1/reference/generated/scipy.stats.ttest_ind.html) method to conduct student's t-test.\n",
    "\n",
    "* **Paired t-test** (a.k.a. dependent or correlated t-test). This type of t-test is to compare the samples of **the same population** (e.g. scores of different tests of students in the same class). `scipy` provides the [`ttest_re`](https://docs.scipy.org/doc/scipy-0.15.1/reference/generated/scipy.stats.ttest_rel.html) method to conduct paired t-test.\n",
    "\n",
    "Both types of t-tests return a number which is called the **p-value**. If p-value is below 0.05, we can confidently declare the null-hypothesis is rejected and the difference is significant. If p-value is between 0.05 and 0.1, we may also declare the null-hypothesis is rejected but we are not highly confident. If p-value is above 0.1 we do not reject the null-hypothesis.\n",
    "\n",
    "Read more about the t-test in [this article](http://b.link/test50) and [this Quora](http://b.link/unpaired97). Make sure you understand when to use which type of t-test. "
   ]
  },
  {
   "cell_type": "code",
   "execution_count": 1,
   "metadata": {},
   "outputs": [],
   "source": [
    "# Import libraries\n",
    "import pandas as pd"
   ]
  },
  {
   "cell_type": "code",
   "execution_count": 2,
   "metadata": {},
   "outputs": [
    {
     "name": "stdout",
     "output_type": "stream",
     "text": [
      "   #                   Name Type 1  Type 2  Total  HP  Attack  Defense  \\\n",
      "0  1              Bulbasaur  Grass  Poison    318  45      49       49   \n",
      "1  2                Ivysaur  Grass  Poison    405  60      62       63   \n",
      "2  3               Venusaur  Grass  Poison    525  80      82       83   \n",
      "3  3  VenusaurMega Venusaur  Grass  Poison    625  80     100      123   \n",
      "4  4             Charmander   Fire     NaN    309  39      52       43   \n",
      "\n",
      "   Sp. Atk  Sp. Def  Speed  Generation  Legendary  \n",
      "0       65       65     45           1      False  \n",
      "1       80       80     60           1      False  \n",
      "2      100      100     80           1      False  \n",
      "3      122      120     80           1      False  \n",
      "4       60       50     65           1      False  \n"
     ]
    }
   ],
   "source": [
    "import pandas as pd\n",
    "\n",
    "pokemon_data = pd.read_csv('pokemon.csv')\n",
    "\n",
    "print(pokemon_data.head())\n"
   ]
  },
  {
   "cell_type": "markdown",
   "metadata": {},
   "source": [
    "#### First we want to define a function with which we can test the means of a feature set of two samples. \n",
    "\n",
    "In the next cell you'll see the annotations of the Python function that explains what this function does and its arguments and returned value. This type of annotation is called **docstring** which is a convention used among Python developers. The docstring convention allows developers to write consistent tech documentations for their codes so that others can read. It also allows some websites to automatically parse the docstrings and display user-friendly documentations.\n",
    "\n",
    "Follow the specifications of the docstring and complete the function."
   ]
  },
  {
   "cell_type": "code",
   "execution_count": 3,
   "metadata": {},
   "outputs": [],
   "source": [
    "def t_test_features(s1, s2, features=['HP', 'Attack', 'Defense', 'Sp. Atk', 'Sp. Def', 'Speed', 'Total']):\n",
    "    \"\"\"\n",
    "    Test means of a feature set of two samples\n",
    "\n",
    "    Args:\n",
    "        s1 (dataframe): sample 1\n",
    "        s2 (dataframe): sample 2\n",
    "        features (list): an array of features to test\n",
    "\n",
    "    Returns:\n",
    "        dict: a dictionary of t-test scores for each feature where the feature name is the key and the p-value is the value\n",
    "    \"\"\"\n",
    "    results = {}\n",
    "\n",
    "    for feature in features:\n",
    "        t_statistic, p_value = ttest_ind(s1[feature], s2[feature])\n",
    "        results[feature] = p_value\n",
    "\n",
    "    return results\n"
   ]
  },
  {
   "cell_type": "markdown",
   "metadata": {},
   "source": [
    "#### Using the `t_test_features` function, conduct t-test for Lengendary vs non-Legendary pokemons.\n",
    "\n",
    "*Hint: your output should look like below:*\n",
    "\n",
    "```\n",
    "{'HP': 1.0026911708035284e-13,\n",
    " 'Attack': 2.520372449236646e-16,\n",
    " 'Defense': 4.8269984949193316e-11,\n",
    " 'Sp. Atk': 1.5514614112239812e-21,\n",
    " 'Sp. Def': 2.2949327864052826e-15,\n",
    " 'Speed': 1.049016311882451e-18,\n",
    " 'Total': 9.357954335957446e-47}\n",
    " ```"
   ]
  },
  {
   "cell_type": "code",
   "execution_count": 4,
   "metadata": {},
   "outputs": [
    {
     "ename": "NameError",
     "evalue": "name 'ttest_ind' is not defined",
     "output_type": "error",
     "traceback": [
      "\u001b[1;31m---------------------------------------------------------------------------\u001b[0m",
      "\u001b[1;31mNameError\u001b[0m                                 Traceback (most recent call last)",
      "\u001b[1;32mc:\\Users\\geert\\Documents\\IRONHACK\\lab-hypothesis-testing-2\\your-code\\challenge-1.ipynb Cell 7\u001b[0m line \u001b[0;36m4\n\u001b[0;32m      <a href='vscode-notebook-cell:/c%3A/Users/geert/Documents/IRONHACK/lab-hypothesis-testing-2/your-code/challenge-1.ipynb#X10sZmlsZQ%3D%3D?line=0'>1</a>\u001b[0m legendary_pokemon \u001b[39m=\u001b[39m pokemon_data[pokemon_data[\u001b[39m'\u001b[39m\u001b[39mLegendary\u001b[39m\u001b[39m'\u001b[39m] \u001b[39m==\u001b[39m \u001b[39mTrue\u001b[39;00m]\n\u001b[0;32m      <a href='vscode-notebook-cell:/c%3A/Users/geert/Documents/IRONHACK/lab-hypothesis-testing-2/your-code/challenge-1.ipynb#X10sZmlsZQ%3D%3D?line=1'>2</a>\u001b[0m non_legendary_pokemon \u001b[39m=\u001b[39m pokemon_data[pokemon_data[\u001b[39m'\u001b[39m\u001b[39mLegendary\u001b[39m\u001b[39m'\u001b[39m] \u001b[39m==\u001b[39m \u001b[39mFalse\u001b[39;00m]\n\u001b[1;32m----> <a href='vscode-notebook-cell:/c%3A/Users/geert/Documents/IRONHACK/lab-hypothesis-testing-2/your-code/challenge-1.ipynb#X10sZmlsZQ%3D%3D?line=3'>4</a>\u001b[0m t_test_results \u001b[39m=\u001b[39m t_test_features(legendary_pokemon, non_legendary_pokemon)\n\u001b[0;32m      <a href='vscode-notebook-cell:/c%3A/Users/geert/Documents/IRONHACK/lab-hypothesis-testing-2/your-code/challenge-1.ipynb#X10sZmlsZQ%3D%3D?line=5'>6</a>\u001b[0m \u001b[39mprint\u001b[39m(t_test_results)\n",
      "\u001b[1;32mc:\\Users\\geert\\Documents\\IRONHACK\\lab-hypothesis-testing-2\\your-code\\challenge-1.ipynb Cell 7\u001b[0m line \u001b[0;36m1\n\u001b[0;32m     <a href='vscode-notebook-cell:/c%3A/Users/geert/Documents/IRONHACK/lab-hypothesis-testing-2/your-code/challenge-1.ipynb#X10sZmlsZQ%3D%3D?line=12'>13</a>\u001b[0m results \u001b[39m=\u001b[39m {}\n\u001b[0;32m     <a href='vscode-notebook-cell:/c%3A/Users/geert/Documents/IRONHACK/lab-hypothesis-testing-2/your-code/challenge-1.ipynb#X10sZmlsZQ%3D%3D?line=14'>15</a>\u001b[0m \u001b[39mfor\u001b[39;00m feature \u001b[39min\u001b[39;00m features:\n\u001b[1;32m---> <a href='vscode-notebook-cell:/c%3A/Users/geert/Documents/IRONHACK/lab-hypothesis-testing-2/your-code/challenge-1.ipynb#X10sZmlsZQ%3D%3D?line=15'>16</a>\u001b[0m     t_statistic, p_value \u001b[39m=\u001b[39m ttest_ind(s1[feature], s2[feature])\n\u001b[0;32m     <a href='vscode-notebook-cell:/c%3A/Users/geert/Documents/IRONHACK/lab-hypothesis-testing-2/your-code/challenge-1.ipynb#X10sZmlsZQ%3D%3D?line=16'>17</a>\u001b[0m     results[feature] \u001b[39m=\u001b[39m p_value\n\u001b[0;32m     <a href='vscode-notebook-cell:/c%3A/Users/geert/Documents/IRONHACK/lab-hypothesis-testing-2/your-code/challenge-1.ipynb#X10sZmlsZQ%3D%3D?line=18'>19</a>\u001b[0m \u001b[39mreturn\u001b[39;00m results\n",
      "\u001b[1;31mNameError\u001b[0m: name 'ttest_ind' is not defined"
     ]
    }
   ],
   "source": [
    "legendary_pokemon = pokemon_data[pokemon_data['Legendary'] == True]\n",
    "non_legendary_pokemon = pokemon_data[pokemon_data['Legendary'] == False]\n",
    "\n",
    "t_test_results = t_test_features(legendary_pokemon, non_legendary_pokemon)\n",
    "\n",
    "print(t_test_results)\n"
   ]
  },
  {
   "cell_type": "markdown",
   "metadata": {},
   "source": [
    "#### From the test results above, what conclusion can you make? Do Legendary and non-Legendary pokemons have significantly different stats on each feature?"
   ]
  },
  {
   "cell_type": "code",
   "execution_count": 5,
   "metadata": {},
   "outputs": [],
   "source": [
    "#yes they do\n"
   ]
  },
  {
   "cell_type": "markdown",
   "metadata": {},
   "source": [
    "#### Next, conduct t-test for Generation 1 and Generation 2 pokemons."
   ]
  },
  {
   "cell_type": "code",
   "execution_count": 7,
   "metadata": {},
   "outputs": [],
   "source": [
    "from scipy.stats import ttest_ind\n",
    "\n",
    "def t_test_features(s1, s2, features=['HP', 'Attack', 'Defense', 'Sp. Atk', 'Sp. Def', 'Speed', 'Total']):\n",
    "    \"\"\"\n",
    "    Test means of a feature set of two samples\n",
    "\n",
    "    Args:\n",
    "        s1 (dataframe): sample 1\n",
    "        s2 (dataframe): sample 2\n",
    "        features (list): an array of features to test\n",
    "\n",
    "    Returns:\n",
    "        dict: a dictionary of t-test scores for each feature where the feature name is the key and the p-value is the value\n",
    "    \"\"\"\n",
    "    results = {}\n",
    "\n",
    "    for feature in features:\n",
    "        t_statistic, p_value = ttest_ind(s1[feature], s2[feature])\n",
    "        results[feature] = p_value\n",
    "\n",
    "    return results\n"
   ]
  },
  {
   "cell_type": "code",
   "execution_count": 8,
   "metadata": {},
   "outputs": [
    {
     "name": "stdout",
     "output_type": "stream",
     "text": [
      "{'HP': 0.13791881412813622, 'Attack': 0.24050968418101457, 'Defense': 0.5407630349194362, 'Sp. Atk': 0.14119788176331508, 'Sp. Def': 0.16781226231606386, 'Speed': 0.0028356954812578704, 'Total': 0.5599140649014442}\n"
     ]
    }
   ],
   "source": [
    "gen1_pokemon = pokemon_data[pokemon_data['Generation'] == 1]\n",
    "gen2_pokemon = pokemon_data[pokemon_data['Generation'] == 2]\n",
    "\n",
    "t_test_results_gen = t_test_features(gen1_pokemon, gen2_pokemon)\n",
    "\n",
    "print(t_test_results_gen)\n"
   ]
  },
  {
   "cell_type": "markdown",
   "metadata": {},
   "source": [
    "#### What conclusions can you make?"
   ]
  },
  {
   "cell_type": "code",
   "execution_count": 11,
   "metadata": {},
   "outputs": [],
   "source": [
    "#speed is the only one which is significant. "
   ]
  },
  {
   "cell_type": "markdown",
   "metadata": {},
   "source": [
    "#### Compare pokemons who have single type vs those having two types."
   ]
  },
  {
   "cell_type": "code",
   "execution_count": 10,
   "metadata": {},
   "outputs": [
    {
     "name": "stdout",
     "output_type": "stream",
     "text": [
      "{'HP': 0.11060643144431842, 'Attack': 0.00015741395666164396, 'Defense': 3.250594205757004e-08, 'Sp. Atk': 0.0001454917404035147, 'Sp. Def': 0.00010893304795534396, 'Speed': 0.024051410794037463, 'Total': 1.1749035008828752e-07}\n"
     ]
    }
   ],
   "source": [
    "single_type_pokemon = pokemon_data[pokemon_data['Type 2'].isnull()]\n",
    "dual_type_pokemon = pokemon_data[pokemon_data['Type 2'].notnull()]\n",
    "\n",
    "t_test_results_type = t_test_features(single_type_pokemon, dual_type_pokemon)\n",
    "\n",
    "print(t_test_results_type)\n"
   ]
  },
  {
   "cell_type": "markdown",
   "metadata": {},
   "source": [
    "#### What conclusions can you make?"
   ]
  },
  {
   "cell_type": "code",
   "execution_count": 12,
   "metadata": {},
   "outputs": [],
   "source": [
    "# The t-tests indicate that there are statistically significant differences between single and dual pokemons in Attack, Defense, Special Attack, Special Defense, Speed, and btw also Total stats"
   ]
  },
  {
   "cell_type": "markdown",
   "metadata": {},
   "source": [
    "#### Now, we want to compare whether there are significant differences of `Attack` vs `Defense`  and  `Sp. Atk` vs `Sp. Def` of all pokemons. Please write your code below.\n",
    "\n",
    "*Hint: are you comparing different populations or the same population?*"
   ]
  },
  {
   "cell_type": "code",
   "execution_count": 13,
   "metadata": {},
   "outputs": [
    {
     "name": "stdout",
     "output_type": "stream",
     "text": [
      "Test results for Attack vs Defense: t-statistic = 3.241764074042312, p-value = 0.0012123980547321484\n",
      "Test results for Sp. Atk vs Sp. Def: t-statistic = 0.6041290031014401, p-value = 0.5458436328840358\n"
     ]
    }
   ],
   "source": [
    "t_statistic_attack_defense, p_value_attack_defense = ttest_ind(pokemon_data['Attack'], pokemon_data['Defense'])\n",
    "\n",
    "t_statistic_sp_atk_sp_def, p_value_sp_atk_sp_def = ttest_ind(pokemon_data['Sp. Atk'], pokemon_data['Sp. Def'])\n",
    "\n",
    "print(f'Test results for Attack vs Defense: t-statistic = {t_statistic_attack_defense}, p-value = {p_value_attack_defense}')\n",
    "print(f'Test results for Sp. Atk vs Sp. Def: t-statistic = {t_statistic_sp_atk_sp_def}, p-value = {p_value_sp_atk_sp_def}')\n"
   ]
  },
  {
   "cell_type": "markdown",
   "metadata": {},
   "source": [
    "#### What conclusions can you make?"
   ]
  },
  {
   "cell_type": "code",
   "execution_count": 14,
   "metadata": {},
   "outputs": [],
   "source": [
    "# there is a significant difference between the means of attck and defense, but no significant difference between the means of special attack and special defense"
   ]
  }
 ],
 "metadata": {
  "kernelspec": {
   "display_name": "Python 3",
   "language": "python",
   "name": "python3"
  },
  "language_info": {
   "codemirror_mode": {
    "name": "ipython",
    "version": 3
   },
   "file_extension": ".py",
   "mimetype": "text/x-python",
   "name": "python",
   "nbconvert_exporter": "python",
   "pygments_lexer": "ipython3",
   "version": "3.10.9"
  }
 },
 "nbformat": 4,
 "nbformat_minor": 2
}
